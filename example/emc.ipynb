{
 "cells": [
  {
   "cell_type": "markdown",
   "metadata": {},
   "source": [
    "## Mass-energy equivalence\n",
    "In physics, mass–energy equivalence states that anything having mass has an equivalent amount of energy and vice versa. These quantities are directly relating to one another by Albert Einstein's famous formula, which states that the equivalent energy ***E*** can be calculated as the mass ***m*** multiplied by the speed of light ***c*** squared."
   ]
  },
  {
   "cell_type": "code",
   "execution_count": null,
   "metadata": {},
   "outputs": [],
   "source": [
    "theory EMC : http://cds.omdoc.org/urtheories?LF ="
   ]
  },
  {
   "cell_type": "code",
   "execution_count": null,
   "metadata": {},
   "outputs": [],
   "source": [
    "include http://mathhub.info/MitM/Foundation/Units?QEBase"
   ]
  },
  {
   "cell_type": "code",
   "execution_count": null,
   "metadata": {},
   "outputs": [],
   "source": [
    "include http://mathhub.info/MitM/Foundation?Logic"
   ]
  },
  {
   "cell_type": "markdown",
   "metadata": {},
   "source": [
    "The energy ***e*** is the quantitative property that must be transferred to an object in order to perform work on, or to heat, the object. Energy is a conserved quantity; the law of conservation of energy states that energy can be converted in form, but not created or destroyed. The SI unit of energy is the joule, which is the energy transferred to an object by the work of moving it a distance of 1 metre against a force of 1 newton."
   ]
  },
  {
   "cell_type": "code",
   "execution_count": null,
   "metadata": {},
   "outputs": [],
   "source": [
    "e : QE Energy"
   ]
  },
  {
   "cell_type": "markdown",
   "metadata": {},
   "source": [
    "The mass ***m*** is both a property of a physical body and a measure of its resistance to acceleration (a change in its state of motion) when a net force is applied. It also determines the strength of its mutual gravitational attraction to other bodies. The basic SI unit of mass is the kilogram (kg)."
   ]
  },
  {
   "cell_type": "code",
   "execution_count": null,
   "metadata": {},
   "outputs": [],
   "source": [
    "m : QE Mass"
   ]
  },
  {
   "cell_type": "markdown",
   "metadata": {},
   "source": [
    "The speed of light in vacuum, commonly denoted ***c***, is a universal physical constant important in many areas of physics. Its exact value is 299,792,458 metres per second (approximately 300,000 km/s (186,000 mi/s)). It is exact because by international agreement a metre is defined to be the length of the path travelled by light in vacuum during a time interval of 1/299792458 second. According to special relativity, ***c*** is the maximum speed at which all conventional matter and hence all known forms of information in the universe can travel."
   ]
  },
  {
   "cell_type": "code",
   "execution_count": null,
   "metadata": {},
   "outputs": [],
   "source": [
    "lightspeed : QE Velocity"
   ]
  },
  {
   "cell_type": "markdown",
   "metadata": {},
   "source": [
    "Combining these quantities we now can define Einsteins formula as: ***E = m ⋅ c²***. Similarly, anything having energy exhibits a corresponding mass ***m*** given by its energy ***E*** divided by the speed of light ***c*** squared. Because the speed of light is a very large number in everyday units, the formula implies that even an everyday object at rest with a modest amount of mass has a very large amount of energy intrinsically. Chemical, nuclear, and other energy transformations may cause a system to lose some of its energy content (and thus some corresponding mass), releasing it as the radiant energy of light or as thermal energy for example."
   ]
  },
  {
   "cell_type": "code",
   "execution_count": null,
   "metadata": {},
   "outputs": [],
   "source": [
    "einstein : prop ❘ = e ≐ m ⋅ (lightspeed ⋅ lightspeed)"
   ]
  },
  {
   "cell_type": "code",
   "execution_count": null,
   "metadata": {},
   "outputs": [],
   "source": [
    "active computation"
   ]
  }
 ],
 "metadata": {
  "kernelspec": {
   "display_name": "MMT",
   "language": "mmt",
   "name": "mmt"
  },
  "language_info": {
   "file_extension": ".mmt",
   "mimetype": "text/mmt",
   "name": "mmt"
  }
 },
 "nbformat": 4,
 "nbformat_minor": 2
}
